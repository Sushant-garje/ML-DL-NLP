{
 "cells": [
  {
   "metadata": {
    "ExecuteTime": {
     "end_time": "2025-05-12T17:54:31.019137Z",
     "start_time": "2025-05-12T17:54:30.837283Z"
    }
   },
   "cell_type": "code",
   "source": "a=b",
   "id": "9805aab466398eec",
   "outputs": [
    {
     "ename": "NameError",
     "evalue": "name 'b' is not defined",
     "output_type": "error",
     "traceback": [
      "\u001B[0;31m---------------------------------------------------------------------------\u001B[0m",
      "\u001B[0;31mNameError\u001B[0m                                 Traceback (most recent call last)",
      "Cell \u001B[0;32mIn[2], line 1\u001B[0m\n\u001B[0;32m----> 1\u001B[0m a\u001B[38;5;241m=\u001B[39mb\n",
      "\u001B[0;31mNameError\u001B[0m: name 'b' is not defined"
     ]
    }
   ],
   "execution_count": 2
  },
  {
   "cell_type": "code",
   "id": "initial_id",
   "metadata": {
    "collapsed": true,
    "ExecuteTime": {
     "end_time": "2025-05-12T17:54:18.361661Z",
     "start_time": "2025-05-12T17:54:18.358665Z"
    }
   },
   "source": [
    "try:\n",
    "    a=b\n",
    "except:\n",
    "    print(\"b variable is not defined\")"
   ],
   "outputs": [
    {
     "name": "stdout",
     "output_type": "stream",
     "text": [
      "b variable is not defined\n"
     ]
    }
   ],
   "execution_count": 1
  },
  {
   "metadata": {
    "ExecuteTime": {
     "end_time": "2025-05-12T17:55:09.071507Z",
     "start_time": "2025-05-12T17:55:09.064015Z"
    }
   },
   "cell_type": "code",
   "source": [
    "try:\n",
    "    a=b\n",
    "except NameError as ex:\n",
    "    print(ex)"
   ],
   "id": "38c59a0bc2992263",
   "outputs": [
    {
     "name": "stdout",
     "output_type": "stream",
     "text": [
      "name 'b' is not defined\n"
     ]
    }
   ],
   "execution_count": 3
  },
  {
   "metadata": {
    "ExecuteTime": {
     "end_time": "2025-05-12T17:55:48.707455Z",
     "start_time": "2025-05-12T17:55:48.689712Z"
    }
   },
   "cell_type": "code",
   "source": "result = 1/0",
   "id": "5204ae0d70c9ca82",
   "outputs": [
    {
     "ename": "ZeroDivisionError",
     "evalue": "division by zero",
     "output_type": "error",
     "traceback": [
      "\u001B[0;31m---------------------------------------------------------------------------\u001B[0m",
      "\u001B[0;31mZeroDivisionError\u001B[0m                         Traceback (most recent call last)",
      "Cell \u001B[0;32mIn[4], line 1\u001B[0m\n\u001B[0;32m----> 1\u001B[0m result \u001B[38;5;241m=\u001B[39m \u001B[38;5;241m1\u001B[39m\u001B[38;5;241m/\u001B[39m\u001B[38;5;241m0\u001B[39m\n",
      "\u001B[0;31mZeroDivisionError\u001B[0m: division by zero"
     ]
    }
   ],
   "execution_count": 4
  },
  {
   "metadata": {
    "ExecuteTime": {
     "end_time": "2025-05-12T17:56:50.140569Z",
     "start_time": "2025-05-12T17:56:50.133730Z"
    }
   },
   "cell_type": "code",
   "source": [
    "try :\n",
    "    result = 1/0\n",
    "except ZeroDivisionError as ex:\n",
    "    print(ex)\n",
    "    print(\"change the denominator it shold be greater than zero\")"
   ],
   "id": "8bc1688f1c28b0f4",
   "outputs": [
    {
     "name": "stdout",
     "output_type": "stream",
     "text": [
      "division by zero\n",
      "change the denominator it shold be greater than zero\n"
     ]
    }
   ],
   "execution_count": 7
  },
  {
   "metadata": {
    "ExecuteTime": {
     "end_time": "2025-05-12T18:00:54.211876Z",
     "start_time": "2025-05-12T18:00:54.205273Z"
    }
   },
   "cell_type": "code",
   "source": [
    "try :\n",
    "    result = 1/2\n",
    "    a=b\n",
    "except ZeroDivisionError as ex:\n",
    "    print(ex)\n",
    "except Exception as ex1:\n",
    "    print(ex1)\n"
   ],
   "id": "556b1efc1fc3100c",
   "outputs": [
    {
     "name": "stdout",
     "output_type": "stream",
     "text": [
      "name 'b' is not defined\n"
     ]
    }
   ],
   "execution_count": 8
  },
  {
   "metadata": {
    "ExecuteTime": {
     "end_time": "2025-05-12T18:04:14.607223Z",
     "start_time": "2025-05-12T18:04:11.762187Z"
    }
   },
   "cell_type": "code",
   "source": [
    "try:\n",
    "    num = int(input(\"enter the number\"))\n",
    "    result = 10/num\n",
    "except ValueError as ex:\n",
    "    print(\"this is not a valid number\")\n",
    "except ZeroDivisionError as ex1:\n",
    "    print(\"denominator can't be zero\")\n",
    "except Exception as ex:\n",
    "    print(ex)"
   ],
   "id": "1ff65530f4223500",
   "outputs": [
    {
     "name": "stdout",
     "output_type": "stream",
     "text": [
      "this is not a valid number\n"
     ]
    }
   ],
   "execution_count": 11
  },
  {
   "metadata": {
    "ExecuteTime": {
     "end_time": "2025-05-12T18:06:38.220353Z",
     "start_time": "2025-05-12T18:06:32.971175Z"
    }
   },
   "cell_type": "code",
   "source": [
    "## try,except,else block\n",
    "try:\n",
    "    num = int(input(\"enter the number\"))\n",
    "    result = 10/num\n",
    "except ValueError as ex:\n",
    "    print(\"this is not a valid number\")\n",
    "except ZeroDivisionError as ex1:\n",
    "    print(\"denominator can't be zero\")\n",
    "except Exception as ex:\n",
    "    print(ex)\n",
    "else:\n",
    "    print(result)"
   ],
   "id": "34676b7730120959",
   "outputs": [
    {
     "name": "stdout",
     "output_type": "stream",
     "text": [
      "2.0\n"
     ]
    }
   ],
   "execution_count": 12
  },
  {
   "metadata": {
    "ExecuteTime": {
     "end_time": "2025-05-12T18:10:05.584630Z",
     "start_time": "2025-05-12T18:10:01.493244Z"
    }
   },
   "cell_type": "code",
   "source": [
    "# try ,except, else, finally\n",
    "try:\n",
    "    num = int(input(\"enter the number\"))\n",
    "    result = 10 / num\n",
    "except ValueError as ex:\n",
    "    print(\"this is not a valid number\")\n",
    "except ZeroDivisionError as ex1:\n",
    "    print(\"denominator can't be zero\")\n",
    "except Exception as ex:\n",
    "    print(ex)\n",
    "else:\n",
    "    print(result)\n",
    "finally:\n",
    "    print(\"execution finished\")\n",
    "# try ,except, else, finally"
   ],
   "id": "e96faa580a284fd3",
   "outputs": [
    {
     "name": "stdout",
     "output_type": "stream",
     "text": [
      "3.3333333333333335\n",
      "execution finished\n"
     ]
    }
   ],
   "execution_count": 13
  },
  {
   "metadata": {
    "ExecuteTime": {
     "end_time": "2025-05-12T18:15:33.271116Z",
     "start_time": "2025-05-12T18:15:33.258516Z"
    }
   },
   "cell_type": "code",
   "source": [
    "### file handling along with exception handling\n",
    "try:\n",
    "    file = open(\"test.txt\",\"r\")\n",
    "    contents = file.read()\n",
    "    print(contents)\n",
    "except FileNotFoundError as ex:\n",
    "    print(\"Test.tst file not exists\")\n",
    "except Exception as ex:\n",
    "    print(ex)\n",
    "finally:\n",
    "    if \"file\" in locals() or  not file.closed:\n",
    "        file.close()\n",
    "        print(\"file closed\")"
   ],
   "id": "85ba1a202485d559",
   "outputs": [
    {
     "name": "stdout",
     "output_type": "stream",
     "text": [
      "Test.tst file not exists\n"
     ]
    }
   ],
   "execution_count": 14
  },
  {
   "metadata": {},
   "cell_type": "code",
   "outputs": [],
   "execution_count": null,
   "source": "",
   "id": "a25624df0c0be322"
  }
 ],
 "metadata": {
  "kernelspec": {
   "display_name": "Python 3",
   "language": "python",
   "name": "python3"
  },
  "language_info": {
   "codemirror_mode": {
    "name": "ipython",
    "version": 2
   },
   "file_extension": ".py",
   "mimetype": "text/x-python",
   "name": "python",
   "nbconvert_exporter": "python",
   "pygments_lexer": "ipython2",
   "version": "2.7.6"
  }
 },
 "nbformat": 4,
 "nbformat_minor": 5
}
