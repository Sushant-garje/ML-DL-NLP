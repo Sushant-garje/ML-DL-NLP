{
 "cells": [
  {
   "cell_type": "code",
   "id": "initial_id",
   "metadata": {
    "collapsed": true,
    "ExecuteTime": {
     "end_time": "2025-05-13T16:42:25.760758Z",
     "start_time": "2025-05-13T16:42:25.757738Z"
    }
   },
   "source": "import sqlite3",
   "outputs": [],
   "execution_count": 2
  },
  {
   "metadata": {
    "ExecuteTime": {
     "end_time": "2025-05-13T16:43:13.837692Z",
     "start_time": "2025-05-13T16:43:13.834379Z"
    }
   },
   "cell_type": "code",
   "source": [
    "#creation of db\n",
    "sql = sqlite3.connect(\"test.db\")\n"
   ],
   "id": "f70736abd114c30a",
   "outputs": [],
   "execution_count": 3
  },
  {
   "metadata": {
    "ExecuteTime": {
     "end_time": "2025-05-13T16:43:29.793581Z",
     "start_time": "2025-05-13T16:43:29.783043Z"
    }
   },
   "cell_type": "code",
   "source": "sql",
   "id": "defc061980c30bcb",
   "outputs": [
    {
     "data": {
      "text/plain": [
       "<sqlite3.Connection at 0x107ed09a0>"
      ]
     },
     "execution_count": 4,
     "metadata": {},
     "output_type": "execute_result"
    }
   ],
   "execution_count": 4
  },
  {
   "metadata": {
    "ExecuteTime": {
     "end_time": "2025-05-13T16:44:07.439097Z",
     "start_time": "2025-05-13T16:44:07.435994Z"
    }
   },
   "cell_type": "code",
   "source": [
    "#creation of cursor\n",
    "cursor = sql.cursor()"
   ],
   "id": "cbc80508b914e6c",
   "outputs": [],
   "execution_count": 5
  },
  {
   "metadata": {
    "ExecuteTime": {
     "end_time": "2025-05-13T16:49:18.352393Z",
     "start_time": "2025-05-13T16:49:18.345514Z"
    }
   },
   "cell_type": "code",
   "source": [
    "#creation of table\n",
    "cursor.execute('''\n",
    "create table if not exists employees(\n",
    "    id integer primary key,\n",
    "    name text NOT NULL,\n",
    "    age Integer,\n",
    "    department text\n",
    "    )\n",
    "''')\n",
    "\n",
    "\n",
    "\n",
    "## commt the channges\n",
    "sql.commit()"
   ],
   "id": "b6465eda082f311e",
   "outputs": [],
   "execution_count": 6
  },
  {
   "metadata": {
    "ExecuteTime": {
     "end_time": "2025-05-13T16:50:34.295101Z",
     "start_time": "2025-05-13T16:50:34.290522Z"
    }
   },
   "cell_type": "code",
   "source": [
    "cursor.execute('''\n",
    "select * from employees\n",
    "\n",
    "''')"
   ],
   "id": "cfe77191917dad25",
   "outputs": [
    {
     "data": {
      "text/plain": [
       "<sqlite3.Cursor at 0x107bdc9c0>"
      ]
     },
     "execution_count": 8,
     "metadata": {},
     "output_type": "execute_result"
    }
   ],
   "execution_count": 8
  },
  {
   "metadata": {
    "ExecuteTime": {
     "end_time": "2025-05-13T16:55:24.645297Z",
     "start_time": "2025-05-13T16:55:24.641484Z"
    }
   },
   "cell_type": "code",
   "source": [
    "## insert the data in sqlite table\n",
    "cursor.execute('''\n",
    "insert into employees(name, age, department)\n",
    "values (\"Sushant\", 20, \"cse\"),\n",
    "        (\"varad\", 20, \"cse-ai\"),\n",
    "        (\"rahul\", 20, \"cse-aiml\"),\n",
    "        (\"Ayush\", 20, \"cse-core\"),\n",
    "        (\"junaid\", 20, \"cse\")\n",
    "\n",
    "''')\n",
    "\n",
    "sql.commit()"
   ],
   "id": "27f002298d8c6a74",
   "outputs": [],
   "execution_count": 11
  },
  {
   "metadata": {
    "ExecuteTime": {
     "end_time": "2025-05-13T16:57:24.374643Z",
     "start_time": "2025-05-13T16:57:24.369449Z"
    }
   },
   "cell_type": "code",
   "source": [
    "## Quering the data from table\n",
    "cursor.execute('select * from employees')\n",
    "rows = cursor.fetchall()\n",
    "\n",
    "##print the Queried data\n",
    "for i in rows:\n",
    "    print(i)"
   ],
   "id": "153eedd3a13d6156",
   "outputs": [
    {
     "name": "stdout",
     "output_type": "stream",
     "text": [
      "(1, 'Sushant', 20, 'cse')\n",
      "(2, 'varad', 20, 'cse-ai')\n",
      "(3, 'rahul', 20, 'cse-aiml')\n",
      "(4, 'Ayush', 20, 'cse-core')\n",
      "(5, 'junaid', 20, 'cse')\n",
      "(6, 'Sushant', 20, 'cse')\n",
      "(7, 'varad', 20, 'cse-ai')\n",
      "(8, 'rahul', 20, 'cse-aiml')\n",
      "(9, 'Ayush', 20, 'cse-core')\n",
      "(10, 'junaid', 20, 'cse')\n"
     ]
    }
   ],
   "execution_count": 12
  },
  {
   "metadata": {
    "ExecuteTime": {
     "end_time": "2025-05-13T16:59:46.429778Z",
     "start_time": "2025-05-13T16:59:46.425027Z"
    }
   },
   "cell_type": "code",
   "source": [
    "## update the data in tabl\n",
    "cursor.execute('''\n",
    "update employees set age =34\n",
    "where name=\"junaid\"''')\n",
    "sql.commit()"
   ],
   "id": "9f8ec3e32ec07da3",
   "outputs": [],
   "execution_count": 15
  },
  {
   "metadata": {
    "ExecuteTime": {
     "end_time": "2025-05-13T16:59:47.581752Z",
     "start_time": "2025-05-13T16:59:47.578087Z"
    }
   },
   "cell_type": "code",
   "source": [
    "## Quering the data from table\n",
    "cursor.execute('select * from employees')\n",
    "rows = cursor.fetchall()\n",
    "\n",
    "##print the Queried data\n",
    "for i in rows:\n",
    "    print(i)"
   ],
   "id": "5fb2a98cbb7b58a3",
   "outputs": [
    {
     "name": "stdout",
     "output_type": "stream",
     "text": [
      "(1, 'Sushant', 20, 'cse')\n",
      "(2, 'varad', 20, 'cse-ai')\n",
      "(3, 'rahul', 20, 'cse-aiml')\n",
      "(4, 'Ayush', 20, 'cse-core')\n",
      "(5, 'junaid', 34, 'cse')\n",
      "(6, 'Sushant', 20, 'cse')\n",
      "(7, 'varad', 20, 'cse-ai')\n",
      "(8, 'rahul', 20, 'cse-aiml')\n",
      "(9, 'Ayush', 20, 'cse-core')\n",
      "(10, 'junaid', 34, 'cse')\n"
     ]
    }
   ],
   "execution_count": 16
  },
  {
   "metadata": {
    "ExecuteTime": {
     "end_time": "2025-05-13T17:00:53.318537Z",
     "start_time": "2025-05-13T17:00:53.312841Z"
    }
   },
   "cell_type": "code",
   "source": [
    "## Delet the data from tablr\n",
    "cursor.execute('''\n",
    "delete from employees\n",
    "where name=\"junaid\"''')\n",
    "sql.commit()"
   ],
   "id": "238262ca4a99575f",
   "outputs": [],
   "execution_count": 17
  },
  {
   "metadata": {
    "ExecuteTime": {
     "end_time": "2025-05-13T17:01:01.700137Z",
     "start_time": "2025-05-13T17:01:01.695737Z"
    }
   },
   "cell_type": "code",
   "source": [
    "sql.commit()\n",
    "## Quering the data from table\n",
    "cursor.execute('select * from employees')\n",
    "rows = cursor.fetchall()\n",
    "\n",
    "##print the Queried data\n",
    "for i in rows:\n",
    "    print(i)"
   ],
   "id": "16c3d1ec6ba4181d",
   "outputs": [
    {
     "name": "stdout",
     "output_type": "stream",
     "text": [
      "(1, 'Sushant', 20, 'cse')\n",
      "(2, 'varad', 20, 'cse-ai')\n",
      "(3, 'rahul', 20, 'cse-aiml')\n",
      "(4, 'Ayush', 20, 'cse-core')\n",
      "(6, 'Sushant', 20, 'cse')\n",
      "(7, 'varad', 20, 'cse-ai')\n",
      "(8, 'rahul', 20, 'cse-aiml')\n",
      "(9, 'Ayush', 20, 'cse-core')\n"
     ]
    }
   ],
   "execution_count": 18
  },
  {
   "metadata": {
    "ExecuteTime": {
     "end_time": "2025-05-13T17:08:12.220727Z",
     "start_time": "2025-05-13T17:08:12.215688Z"
    }
   },
   "cell_type": "code",
   "source": [
    "## working with the sales data\n",
    "# connect to sqlite3\n",
    "conn = sqlite3.connect(\"sale_data.db\")\n",
    "cur = conn.cursor()\n",
    "\n",
    "# creating the table\n",
    "cur.execute('''\n",
    "CREATE TABLE IF NOT EXISTS sales(\n",
    "    id integer primary key,\n",
    "    date Text NOT NULL,\n",
    "    product text NOT NULL,\n",
    "    sales Integer,\n",
    "    region text\n",
    "    )\n",
    "\n",
    "''')\n",
    "# inserting the data\n",
    "sales_data = [\n",
    "    ('2025-05-01', 'Laptop', 10, 'North'),\n",
    "    ('2025-05-01', 'Smartphone', 25, 'South'),\n",
    "    ('2025-05-02', 'Tablet', 15, 'East'),\n",
    "    ('2025-05-02', 'Laptop', 8, 'West'),\n",
    "    ('2025-05-03', 'Smartwatch', 20, 'North'),\n",
    "    ('2025-05-03', 'Laptop', 12, 'South'),\n",
    "]\n",
    "\n",
    "cur.executemany('''\n",
    "INSERT INTO sales (date, product, sales, region)\n",
    "VALUES (?, ?, ?, ?)\n",
    "''', sales_data)\n",
    "\n",
    "conn.commit()\n"
   ],
   "id": "c61e6245e869b3ca",
   "outputs": [],
   "execution_count": 23
  },
  {
   "metadata": {
    "ExecuteTime": {
     "end_time": "2025-05-13T17:10:08.208563Z",
     "start_time": "2025-05-13T17:10:08.202336Z"
    }
   },
   "cell_type": "code",
   "source": [
    "## Quering the data from table\n",
    "cur.execute('select * from sales')\n",
    "rows = cur.fetchall()\n",
    "\n",
    "##print the Queried data\n",
    "for i in rows:\n",
    "    print(i)"
   ],
   "id": "2378a108202c5c9e",
   "outputs": [
    {
     "name": "stdout",
     "output_type": "stream",
     "text": [
      "(1, '2025-05-01', 'Laptop', 10, 'North')\n",
      "(2, '2025-05-01', 'Smartphone', 25, 'South')\n",
      "(3, '2025-05-02', 'Tablet', 15, 'East')\n",
      "(4, '2025-05-02', 'Laptop', 8, 'West')\n",
      "(5, '2025-05-03', 'Smartwatch', 20, 'North')\n",
      "(6, '2025-05-03', 'Laptop', 12, 'South')\n"
     ]
    }
   ],
   "execution_count": 24
  },
  {
   "metadata": {
    "ExecuteTime": {
     "end_time": "2025-05-13T17:11:03.207822Z",
     "start_time": "2025-05-13T17:11:03.204967Z"
    }
   },
   "cell_type": "code",
   "source": [
    "# close the connection\n",
    "conn.close()"
   ],
   "id": "d9dd2b5515bdf6c4",
   "outputs": [],
   "execution_count": 25
  },
  {
   "metadata": {
    "ExecuteTime": {
     "end_time": "2025-05-13T17:11:14.998725Z",
     "start_time": "2025-05-13T17:11:14.982487Z"
    }
   },
   "cell_type": "code",
   "source": [
    "## Quering the data from table\n",
    "cur.execute('select * from sales')\n",
    "rows = cur.fetchall()\n",
    "\n",
    "##print the Queried data\n",
    "for i in rows:\n",
    "    print(i)"
   ],
   "id": "e9b01d16aed0c8bb",
   "outputs": [
    {
     "ename": "ProgrammingError",
     "evalue": "Cannot operate on a closed database.",
     "output_type": "error",
     "traceback": [
      "\u001B[0;31m---------------------------------------------------------------------------\u001B[0m",
      "\u001B[0;31mProgrammingError\u001B[0m                          Traceback (most recent call last)",
      "Cell \u001B[0;32mIn[26], line 2\u001B[0m\n\u001B[1;32m      1\u001B[0m \u001B[38;5;66;03m## Quering the data from table\u001B[39;00m\n\u001B[0;32m----> 2\u001B[0m cur\u001B[38;5;241m.\u001B[39mexecute(\u001B[38;5;124m'\u001B[39m\u001B[38;5;124mselect * from sales\u001B[39m\u001B[38;5;124m'\u001B[39m)\n\u001B[1;32m      3\u001B[0m rows \u001B[38;5;241m=\u001B[39m cur\u001B[38;5;241m.\u001B[39mfetchall()\n\u001B[1;32m      5\u001B[0m \u001B[38;5;66;03m##print the Queried data\u001B[39;00m\n",
      "\u001B[0;31mProgrammingError\u001B[0m: Cannot operate on a closed database."
     ]
    }
   ],
   "execution_count": 26
  }
 ],
 "metadata": {
  "kernelspec": {
   "display_name": "Python 3",
   "language": "python",
   "name": "python3"
  },
  "language_info": {
   "codemirror_mode": {
    "name": "ipython",
    "version": 2
   },
   "file_extension": ".py",
   "mimetype": "text/x-python",
   "name": "python",
   "nbconvert_exporter": "python",
   "pygments_lexer": "ipython2",
   "version": "2.7.6"
  }
 },
 "nbformat": 4,
 "nbformat_minor": 5
}
