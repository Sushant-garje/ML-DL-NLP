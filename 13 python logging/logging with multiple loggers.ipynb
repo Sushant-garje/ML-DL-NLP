{
 "cells": [
  {
   "metadata": {},
   "cell_type": "markdown",
   "source": "# Logging with multiple loggers\n",
   "id": "4a80bab9a908a39b"
  },
  {
   "metadata": {
    "ExecuteTime": {
     "end_time": "2025-05-13T18:48:19.196331Z",
     "start_time": "2025-05-13T18:48:19.192186Z"
    }
   },
   "cell_type": "code",
   "source": [
    "\n",
    "import logging\n",
    "\n",
    "# First configure logging\n",
    "logging.basicConfig(\n",
    "    level=logging.DEBUG,\n",
    "    format=\"%(asctime)s - %(name)s - %(levelname)s - %(message)s\",\n",
    "    datefmt=\"%Y-%m-%d %H:%M:%S\"\n",
    ")\n",
    "\n",
    "# Then create logger instances\n",
    "logger1 = logging.getLogger(\"module1\")\n",
    "logger1.setLevel(logging.DEBUG)\n",
    "\n",
    "logger2 = logging.getLogger(\"module2\")\n",
    "logger2.setLevel(logging.WARNING)\n",
    "\n"
   ],
   "id": "dd7eabb3fdfe5528",
   "outputs": [],
   "execution_count": 1
  },
  {
   "metadata": {
    "ExecuteTime": {
     "end_time": "2025-05-13T18:50:08.038029Z",
     "start_time": "2025-05-13T18:50:08.032887Z"
    }
   },
   "cell_type": "code",
   "source": [
    "# Log messages\n",
    "logger1.debug(\"debug message from logger 1\")\n",
    "logger1.warning(\"warning message from logger 2\")\n",
    "logger2.error(\"error message from logger 2\")"
   ],
   "id": "74ddfce359cca714",
   "outputs": [
    {
     "name": "stderr",
     "output_type": "stream",
     "text": [
      "2025-05-14 00:20:08 - module1 - DEBUG - debug message from logger 1\n",
      "2025-05-14 00:20:08 - module1 - WARNING - warning message from logger 2\n",
      "2025-05-14 00:20:08 - module2 - ERROR - error message from logger 2\n"
     ]
    }
   ],
   "execution_count": 5
  }
 ],
 "metadata": {
  "kernelspec": {
   "display_name": "Python 3",
   "language": "python",
   "name": "python3"
  },
  "language_info": {
   "codemirror_mode": {
    "name": "ipython",
    "version": 2
   },
   "file_extension": ".py",
   "mimetype": "text/x-python",
   "name": "python",
   "nbconvert_exporter": "python",
   "pygments_lexer": "ipython2",
   "version": "2.7.6"
  }
 },
 "nbformat": 4,
 "nbformat_minor": 5
}
