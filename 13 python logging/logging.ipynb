{
 "cells": [
  {
   "cell_type": "code",
   "id": "initial_id",
   "metadata": {
    "collapsed": true,
    "ExecuteTime": {
     "end_time": "2025-05-13T18:04:00.757195Z",
     "start_time": "2025-05-13T18:04:00.752433Z"
    }
   },
   "source": [
    "import logging\n",
    "\n",
    "# Configure the basic logging settings\n",
    "logging.basicConfig(level=logging.DEBUG)\n",
    "\n",
    "# Log messages with different severity levels\n",
    "logging.debug(\"This is a debug message\")\n",
    "logging.info(\"This is an info message\")\n",
    "logging.warning(\"This is a warning message\")\n",
    "logging.error(\"This is an error message\")\n",
    "logging.critical(\"This is a critical message\")"
   ],
   "outputs": [
    {
     "name": "stderr",
     "output_type": "stream",
     "text": [
      "DEBUG:root:This is a debug message\n",
      "INFO:root:This is an info message\n",
      "WARNING:root:This is a warning message\n",
      "ERROR:root:This is an error message\n",
      "CRITICAL:root:This is a critical message\n"
     ]
    }
   ],
   "execution_count": 15
  },
  {
   "metadata": {},
   "cell_type": "markdown",
   "source": [
    "# 🔰 Log Levels (Severity)\n",
    "\n",
    "Python defines five standard logging levels that indicate the severity of events. These are:\n",
    "\n",
    "1. **DEBUG (Level 10)**\n",
    "   Detailed information, typically useful only for diagnosing problems during development.\n",
    "\n",
    "2. **INFO (Level 20)**\n",
    "   Confirmation that things are working as expected. Used to report general events in the application.\n",
    "\n",
    "3. **WARNING (Level 30)**\n",
    "   An indication that something unexpected happened, or indicative of some problem in the near future. The program is still running as expected.\n",
    "\n",
    "4. **ERROR (Level 40)**\n",
    "   A more serious problem that has prevented part of the program from functioning.\n",
    "\n",
    "5. **CRITICAL (Level 50)**\n",
    "   A very serious error indicating that the program itself may be unable to continue running."
   ],
   "id": "a9b9f433510004d1"
  },
  {
   "metadata": {
    "ExecuteTime": {
     "end_time": "2025-05-13T18:16:50.279354Z",
     "start_time": "2025-05-13T18:16:50.273410Z"
    }
   },
   "cell_type": "code",
   "source": [
    "# Configuring the logging\n",
    "import logging\n",
    "\n",
    "logging.basicConfig(\n",
    "\n",
    "    filename=\"app.log\",\n",
    "    filemode=\"w\",\n",
    "    level=logging.DEBUG,\n",
    "    format=\"%(asctime)s - %(name)s - %(levelname)s - %(message)s\",\n",
    "    datefmt=\"%Y-%m-%d %H:%M:%S\",\n",
    ")\n",
    "\n",
    "logging.debug(\"This is a debug message\")\n",
    "logging.info(\"This is an info message\")\n",
    "logging.warning(\"This is a warning message\")\n",
    "logging.error(\"This is an error message\")\n",
    "logging.critical(\"This is a critical message\")"
   ],
   "id": "5b40e77df60b1732",
   "outputs": [],
   "execution_count": 1
  },
  {
   "metadata": {
    "ExecuteTime": {
     "end_time": "2025-05-13T18:18:02.725735Z",
     "start_time": "2025-05-13T18:18:02.718901Z"
    }
   },
   "cell_type": "code",
   "source": [
    "\n",
    "logging.debug(\"This is a debug message\")\n",
    "logging.info(\"This is an info message\")\n",
    "logging.warning(\"This is a warning message\")\n",
    "logging.error(\"This is an error message\")\n",
    "logging.critical(\"This is a critical message\")"
   ],
   "id": "f7baca9b839ca0a2",
   "outputs": [],
   "execution_count": 2
  },
  {
   "metadata": {},
   "cell_type": "code",
   "outputs": [],
   "execution_count": null,
   "source": "",
   "id": "e6225b30f770deea"
  }
 ],
 "metadata": {
  "kernelspec": {
   "display_name": "Python 3",
   "language": "python",
   "name": "python3"
  },
  "language_info": {
   "codemirror_mode": {
    "name": "ipython",
    "version": 2
   },
   "file_extension": ".py",
   "mimetype": "text/x-python",
   "name": "python",
   "nbconvert_exporter": "python",
   "pygments_lexer": "ipython2",
   "version": "2.7.6"
  }
 },
 "nbformat": 4,
 "nbformat_minor": 5
}
