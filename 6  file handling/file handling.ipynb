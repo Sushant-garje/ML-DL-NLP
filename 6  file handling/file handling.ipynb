{
 "cells": [
  {
   "cell_type": "code",
   "id": "initial_id",
   "metadata": {
    "collapsed": true,
    "ExecuteTime": {
     "end_time": "2025-05-11T15:36:10.000307Z",
     "start_time": "2025-05-11T15:36:09.997085Z"
    }
   },
   "source": [
    "from conda_env.cli.main_create import example\n",
    "\n",
    "# read a file\n",
    "\n",
    "with open(\"example.txt\",\"r\") as file:\n",
    "    content = file.read()\n",
    "    print(content)"
   ],
   "outputs": [
    {
     "name": "stdout",
     "output_type": "stream",
     "text": [
      "hello world\n",
      "i am sushant\n"
     ]
    }
   ],
   "execution_count": 3
  },
  {
   "metadata": {
    "ExecuteTime": {
     "end_time": "2025-05-11T15:45:48.798786Z",
     "start_time": "2025-05-11T15:45:48.795037Z"
    }
   },
   "cell_type": "code",
   "source": [
    "with open(\"example.txt\",\"r\") as file:\n",
    "    for line in file:\n",
    "        print(line.strip())"
   ],
   "id": "f24e0eb2fa2a9cb9",
   "outputs": [
    {
     "name": "stdout",
     "output_type": "stream",
     "text": [
      "hello world\n",
      "\n",
      "i am sushant\n"
     ]
    }
   ],
   "execution_count": 5
  },
  {
   "metadata": {
    "ExecuteTime": {
     "end_time": "2025-05-11T15:47:54.542137Z",
     "start_time": "2025-05-11T15:47:54.537907Z"
    }
   },
   "cell_type": "code",
   "source": [
    "# writing a file(overwriting)\n",
    "with open(\"example.txt\",\"w\") as file:\n",
    "    file.write(\"hi whats up\\n\")\n",
    "    file.write(\"adding some new line\")"
   ],
   "id": "7353bb9a8b5081ca",
   "outputs": [],
   "execution_count": 9
  },
  {
   "metadata": {
    "ExecuteTime": {
     "end_time": "2025-05-11T15:50:16.955144Z",
     "start_time": "2025-05-11T15:50:16.951528Z"
    }
   },
   "cell_type": "code",
   "source": [
    "# writing a file( without overwriting)\n",
    "with open(\"example.txt\",\"a\") as file:\n",
    "    file.write(\" appending some text\\n\")"
   ],
   "id": "f184b8fbed4fccda",
   "outputs": [],
   "execution_count": 11
  },
  {
   "metadata": {
    "ExecuteTime": {
     "end_time": "2025-05-11T15:52:26.205095Z",
     "start_time": "2025-05-11T15:52:26.200239Z"
    }
   },
   "cell_type": "code",
   "source": [
    "# writing a list of line\n",
    "\n",
    "lines =[\"first line\\n\",\"second line\\n\",\"third line\\n\"]\n",
    "with open(\"example.txt\",\"a\") as file:\n",
    "    file.writelines(lines)"
   ],
   "id": "c583a938b2de0ed3",
   "outputs": [],
   "execution_count": 12
  },
  {
   "metadata": {
    "ExecuteTime": {
     "end_time": "2025-05-11T15:56:06.764578Z",
     "start_time": "2025-05-11T15:56:06.758568Z"
    }
   },
   "cell_type": "code",
   "source": [
    "## binary file\n",
    "data = b'\\x00\\x01\\x02\\x03\\x04'\n",
    "with open(\"example.bin\",\"wb\") as file:\n",
    "    file.write(data)"
   ],
   "id": "6195403621ff6fa1",
   "outputs": [],
   "execution_count": 13
  },
  {
   "metadata": {
    "ExecuteTime": {
     "end_time": "2025-05-11T15:57:44.277181Z",
     "start_time": "2025-05-11T15:57:44.266776Z"
    }
   },
   "cell_type": "code",
   "source": [
    "## reading binary file\n",
    "with open(\"example.bin\",\"rb\") as file:\n",
    "    content = file.read()\n",
    "    print(content)"
   ],
   "id": "3b024252a0d08da8",
   "outputs": [
    {
     "name": "stdout",
     "output_type": "stream",
     "text": [
      "b'\\x00\\x01\\x02\\x03\\x04'\n"
     ]
    }
   ],
   "execution_count": 14
  },
  {
   "metadata": {
    "ExecuteTime": {
     "end_time": "2025-05-11T16:02:26.713857Z",
     "start_time": "2025-05-11T16:02:26.709953Z"
    }
   },
   "cell_type": "code",
   "source": [
    "#reading from one file and writing in another\n",
    "with open(\"example.txt\",\"r\") as file:\n",
    "    content = file.read()\n",
    "\n",
    "with open(\"de stination.txt\",\"w\") as dest_file:\n",
    "    dest_file.write(content)"
   ],
   "id": "1d6480259bc8b6d5",
   "outputs": [],
   "execution_count": 22
  },
  {
   "metadata": {
    "ExecuteTime": {
     "end_time": "2025-05-11T16:08:55.827036Z",
     "start_time": "2025-05-11T16:08:55.817338Z"
    }
   },
   "cell_type": "code",
   "source": [
    "#read a text file and count number of lines ,word,and characters\n",
    "def count_file_text(file_path):\n",
    "    with open(file_path,\"r\") as file:\n",
    "        lines = file.readlines()\n",
    "        line_count = len(lines)\n",
    "        word_count = sum(len(line.split()) for line in lines)\n",
    "        char_count = sum(len(line) for line in lines)\n",
    "        return line_count, word_count, char_count\n",
    "\n",
    "file_path = \"example.txt\"\n",
    "lines,words,chars = count_file_text(file_path)\n",
    "print(lines)\n",
    "print(words)\n",
    "print(chars)\n"
   ],
   "id": "ad6fb9f293bade37",
   "outputs": [
    {
     "name": "stdout",
     "output_type": "stream",
     "text": [
      "5\n",
      "16\n",
      "87\n"
     ]
    }
   ],
   "execution_count": 23
  },
  {
   "metadata": {
    "ExecuteTime": {
     "end_time": "2025-05-11T16:13:57.681851Z",
     "start_time": "2025-05-11T16:13:57.677461Z"
    }
   },
   "cell_type": "code",
   "source": [
    "# writing and then reading a file\n",
    "with open(\"example.txt\",\"w+\") as file:\n",
    "    file.write(\"hello world\\n\")\n",
    "    file.write(\"this is new line\\n\")\n",
    "\n",
    "    ## move the file curser to the beginning\n",
    "    file.seek(0)\n",
    "    ##read the content\n",
    "    content = file.read()\n",
    "    print(content)"
   ],
   "id": "7cac182908be6c50",
   "outputs": [
    {
     "name": "stdout",
     "output_type": "stream",
     "text": [
      "hello world\n",
      "this is new line\n",
      "\n"
     ]
    }
   ],
   "execution_count": 29
  },
  {
   "metadata": {
    "ExecuteTime": {
     "end_time": "2025-05-11T16:17:30.093969Z",
     "start_time": "2025-05-11T16:17:30.086455Z"
    }
   },
   "cell_type": "code",
   "source": [
    "import os\n",
    "cwd=os.getcwd()\n",
    "print(f\"current working directory: {cwd}\")"
   ],
   "id": "269a6f5cfd044e3d",
   "outputs": [
    {
     "name": "stdout",
     "output_type": "stream",
     "text": [
      "current working directory: /Users/sushant/PycharmProjects/Restart/6  file handling\n"
     ]
    }
   ],
   "execution_count": 30
  },
  {
   "metadata": {
    "ExecuteTime": {
     "end_time": "2025-05-11T16:19:14.898920Z",
     "start_time": "2025-05-11T16:19:14.888008Z"
    }
   },
   "cell_type": "code",
   "source": [
    "## creating new directory\n",
    "\n",
    "new_dir = \"package\"\n",
    "os.mkdir(new_dir)\n",
    "print(f\"new directory {new_dir} created\")"
   ],
   "id": "a32378ccb0bd5a90",
   "outputs": [
    {
     "name": "stdout",
     "output_type": "stream",
     "text": [
      "new directory package created\n"
     ]
    }
   ],
   "execution_count": 31
  },
  {
   "metadata": {
    "ExecuteTime": {
     "end_time": "2025-05-11T16:38:21.143488Z",
     "start_time": "2025-05-11T16:38:21.136419Z"
    }
   },
   "cell_type": "code",
   "source": [
    "# listing files and directory\n",
    "item=os.listdir(\".\")\n",
    "print(item)"
   ],
   "id": "d6520187fb7ff426",
   "outputs": [
    {
     "name": "stdout",
     "output_type": "stream",
     "text": [
      "['destination.txt', 'example.bin', 'file handling.ipynb', 'example.txt', 'package']\n"
     ]
    }
   ],
   "execution_count": 32
  },
  {
   "metadata": {
    "ExecuteTime": {
     "end_time": "2025-05-11T16:40:50.148175Z",
     "start_time": "2025-05-11T16:40:50.140739Z"
    }
   },
   "cell_type": "code",
   "source": [
    "## joining paths\n",
    "\n",
    "dir_name = \"folder\"\n",
    "file_name = \"file.txt\"\n",
    "full_path=os.path.join(dir_name,file_name)\n",
    "print(full_path)"
   ],
   "id": "2299c8219948ccd4",
   "outputs": [
    {
     "name": "stdout",
     "output_type": "stream",
     "text": [
      "folder/file.txt\n"
     ]
    }
   ],
   "execution_count": 33
  },
  {
   "metadata": {
    "ExecuteTime": {
     "end_time": "2025-05-11T16:41:28.095272Z",
     "start_time": "2025-05-11T16:41:28.091842Z"
    }
   },
   "cell_type": "code",
   "source": [
    "## joining paths\n",
    "\n",
    "dir_name = \"folder\"\n",
    "file_name = \"file.txt\"\n",
    "full_path=os.path.join(os.getcwd(),dir_name,file_name)\n",
    "print(full_path)"
   ],
   "id": "f212458c8c5dbddc",
   "outputs": [
    {
     "name": "stdout",
     "output_type": "stream",
     "text": [
      "/Users/sushant/PycharmProjects/Restart/6  file handling/folder/file.txt\n"
     ]
    }
   ],
   "execution_count": 34
  },
  {
   "metadata": {
    "ExecuteTime": {
     "end_time": "2025-05-11T16:42:57.673908Z",
     "start_time": "2025-05-11T16:42:57.664955Z"
    }
   },
   "cell_type": "code",
   "source": [
    "# checking file or dir exists or not\n",
    "\n",
    "path = \"example1.txt\"\n",
    "if os.path.exists(path):\n",
    "    print(f\"file {path} exists\")\n",
    "else:\n",
    "    print(f\"file {path} does not exist\")"
   ],
   "id": "8003adb6ce8adf43",
   "outputs": [
    {
     "name": "stdout",
     "output_type": "stream",
     "text": [
      "file example1.txt does not exist\n"
     ]
    }
   ],
   "execution_count": 35
  },
  {
   "metadata": {
    "ExecuteTime": {
     "end_time": "2025-05-11T16:45:03.679812Z",
     "start_time": "2025-05-11T16:45:03.675966Z"
    }
   },
   "cell_type": "code",
   "source": [
    "#checking path is fil or dir\n",
    "\n",
    "path = \"example.txt\"\n",
    "if os.path.isfile(path):\n",
    "    print(f\"file {path} is file\")\n",
    "elif os.path.isdir(path):\n",
    "    print(f\"directory {path} is Dir\")\n",
    "else:\n",
    "    print(f\"file {path} does not exist\")"
   ],
   "id": "b08da7394085c7d1",
   "outputs": [
    {
     "name": "stdout",
     "output_type": "stream",
     "text": [
      "file example.txt is file\n"
     ]
    }
   ],
   "execution_count": 37
  },
  {
   "metadata": {
    "ExecuteTime": {
     "end_time": "2025-05-11T16:48:50.436795Z",
     "start_time": "2025-05-11T16:48:50.432970Z"
    }
   },
   "cell_type": "code",
   "source": [
    "# getting absolute path\n",
    "relative_path = \"example.txt\"\n",
    "absolute_path = os.path.join(os.getcwd(),relative_path)\n",
    "abs_path=os.path.abspath(relative_path)\n",
    "print(f\"absolute path: {abs_path}\")\n",
    "print(absolute_path)"
   ],
   "id": "168aee40d8d09c69",
   "outputs": [
    {
     "name": "stdout",
     "output_type": "stream",
     "text": [
      "absolute path: /Users/sushant/PycharmProjects/Restart/6  file handling/example.txt\n",
      "/Users/sushant/PycharmProjects/Restart/6  file handling/example.txt\n"
     ]
    }
   ],
   "execution_count": 42
  },
  {
   "metadata": {},
   "cell_type": "code",
   "outputs": [],
   "execution_count": null,
   "source": "",
   "id": "e21a93c0cb3adfda"
  }
 ],
 "metadata": {
  "kernelspec": {
   "display_name": "Python 3",
   "language": "python",
   "name": "python3"
  },
  "language_info": {
   "codemirror_mode": {
    "name": "ipython",
    "version": 2
   },
   "file_extension": ".py",
   "mimetype": "text/x-python",
   "name": "python",
   "nbconvert_exporter": "python",
   "pygments_lexer": "ipython2",
   "version": "2.7.6"
  }
 },
 "nbformat": 4,
 "nbformat_minor": 5
}
